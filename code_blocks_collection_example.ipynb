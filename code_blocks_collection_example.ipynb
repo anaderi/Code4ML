{
  "cells": [
    {
      "cell_type": "code",
      "execution_count": 1,
      "metadata": {
        "colab": {
          "base_uri": "https://localhost:8080/"
        },
        "id": "-381HgGyLyn9",
        "outputId": "58bf97b7-7fdc-4202-c859-38ad97afac53"
      },
      "outputs": [
        {
          "output_type": "stream",
          "name": "stdout",
          "text": [
            "Cloning into 'Code4ML'...\n",
            "remote: Enumerating objects: 47, done.\u001b[K\n",
            "remote: Counting objects: 100% (47/47), done.\u001b[K\n",
            "remote: Compressing objects: 100% (44/44), done.\u001b[K\n",
            "remote: Total 47 (delta 23), reused 0 (delta 0), pack-reused 0\u001b[K\n",
            "Unpacking objects: 100% (47/47), done.\n"
          ]
        }
      ],
      "source": [
        "!git clone https://github.com/ketrint/Code4ML.git"
      ]
    },
    {
      "cell_type": "code",
      "execution_count": null,
      "metadata": {
        "id": "8P69no8TMXoV"
      },
      "outputs": [],
      "source": [
        "%cd Code4ML\n",
        "!mkdir ~/.kaggle\n",
        "!touch ~/.kaggle/kaggle.json\n",
        "\n",
        "user = input('username: ')\n",
        "api_key = input('key: ')\n",
        "\n",
        "api_token = {\"username\":user,\"key\":api_key}\n",
        "\n",
        "import json\n",
        "\n",
        "with open('/root/.kaggle/kaggle.json', 'w') as file:\n",
        "    json.dump(api_token, file)"
      ]
    },
    {
      "cell_type": "code",
      "source": [
        "# make sure to provide the acces rights\n",
        "!chmod 600 ~/.kaggle/kaggle.json\n",
        "!chmod 755 ./competition_kernels.sh"
      ],
      "metadata": {
        "id": "yXTi5bSwMTe7"
      },
      "execution_count": 3,
      "outputs": []
    },
    {
      "cell_type": "code",
      "source": [
        "!mkdir kernel_lists\n",
        "!python collect_kernels_from_competitions.py"
      ],
      "metadata": {
        "id": "Dg3NFzklMXWy"
      },
      "execution_count": null,
      "outputs": []
    },
    {
      "cell_type": "code",
      "source": [
        "!python unite_kernel_lists.py"
      ],
      "metadata": {
        "id": "7IQyhfWTOnyK"
      },
      "execution_count": null,
      "outputs": []
    },
    {
      "cell_type": "code",
      "source": [
        "!python /content/code_blocks_extraction.py"
      ],
      "metadata": {
        "id": "C52szpaEO7V5"
      },
      "execution_count": null,
      "outputs": []
    }
  ],
  "metadata": {
    "colab": {
      "collapsed_sections": [],
      "name": "code_blocks_collection_example.ipynb",
      "provenance": []
    },
    "kernelspec": {
      "display_name": "Python 3",
      "name": "python3"
    },
    "language_info": {
      "name": "python"
    }
  },
  "nbformat": 4,
  "nbformat_minor": 0
}